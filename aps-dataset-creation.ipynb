{
 "cells": [
  {
   "cell_type": "code",
   "execution_count": 1,
   "source": [
    "import numpy as np\n",
    "import networkx as nx\n",
    "import pandas as pd\n",
    "import re\n",
    "import scipy as sp\n",
    "import matplotlib.pyplot as plt"
   ],
   "outputs": [],
   "metadata": {}
  },
  {
   "cell_type": "code",
   "execution_count": 2,
   "source": [
    "cits = pd.read_csv('aps-dataset-citations-2020.csv', sep=',')"
   ],
   "outputs": [],
   "metadata": {}
  },
  {
   "cell_type": "code",
   "execution_count": 3,
   "source": [
    "df = cits[cits['citing_doi'].str.contains('PhysRevLett')]\n",
    "df = df[df['cited_doi'].str.contains('PhysRevLett')]"
   ],
   "outputs": [],
   "metadata": {}
  },
  {
   "cell_type": "code",
   "execution_count": 4,
   "source": [
    "num_mask = \"\\.\\d{1,2}\\.\"\n",
    "num_mask='\\.[0-9]\\.|\\.[1-4][0-9]\\.'\n",
    "df = df[df['cited_doi'].str.contains(num_mask)]\n",
    "df = df[df['citing_doi'].str.contains(num_mask)]"
   ],
   "outputs": [],
   "metadata": {}
  },
  {
   "cell_type": "code",
   "execution_count": 5,
   "source": [
    "df"
   ],
   "outputs": [
    {
     "output_type": "execute_result",
     "data": {
      "text/plain": [
       "                          citing_doi                    cited_doi\n",
       "328715     10.1103/PhysRevLett.2.284      10.1103/PhysRevLett.1.9\n",
       "328721     10.1103/PhysRevLett.1.127      10.1103/PhysRevLett.1.9\n",
       "328729    10.1103/PhysRevLett.14.611     10.1103/PhysRevLett.1.12\n",
       "328735    10.1103/PhysRevLett.24.526     10.1103/PhysRevLett.1.12\n",
       "328741    10.1103/PhysRevLett.11.333     10.1103/PhysRevLett.1.16\n",
       "...                              ...                          ...\n",
       "1803616  10.1103/PhysRevLett.49.1681  10.1103/PhysRevLett.49.1680\n",
       "1806750  10.1103/PhysRevLett.49.1776  10.1103/PhysRevLett.49.1772\n",
       "1806860  10.1103/PhysRevLett.49.1799  10.1103/PhysRevLett.49.1798\n",
       "1808836  10.1103/PhysRevLett.49.1865  10.1103/PhysRevLett.49.1861\n",
       "1808853  10.1103/PhysRevLett.49.1861  10.1103/PhysRevLett.49.1865\n",
       "\n",
       "[48478 rows x 2 columns]"
      ],
      "text/html": [
       "<div>\n",
       "<style scoped>\n",
       "    .dataframe tbody tr th:only-of-type {\n",
       "        vertical-align: middle;\n",
       "    }\n",
       "\n",
       "    .dataframe tbody tr th {\n",
       "        vertical-align: top;\n",
       "    }\n",
       "\n",
       "    .dataframe thead th {\n",
       "        text-align: right;\n",
       "    }\n",
       "</style>\n",
       "<table border=\"1\" class=\"dataframe\">\n",
       "  <thead>\n",
       "    <tr style=\"text-align: right;\">\n",
       "      <th></th>\n",
       "      <th>citing_doi</th>\n",
       "      <th>cited_doi</th>\n",
       "    </tr>\n",
       "  </thead>\n",
       "  <tbody>\n",
       "    <tr>\n",
       "      <th>328715</th>\n",
       "      <td>10.1103/PhysRevLett.2.284</td>\n",
       "      <td>10.1103/PhysRevLett.1.9</td>\n",
       "    </tr>\n",
       "    <tr>\n",
       "      <th>328721</th>\n",
       "      <td>10.1103/PhysRevLett.1.127</td>\n",
       "      <td>10.1103/PhysRevLett.1.9</td>\n",
       "    </tr>\n",
       "    <tr>\n",
       "      <th>328729</th>\n",
       "      <td>10.1103/PhysRevLett.14.611</td>\n",
       "      <td>10.1103/PhysRevLett.1.12</td>\n",
       "    </tr>\n",
       "    <tr>\n",
       "      <th>328735</th>\n",
       "      <td>10.1103/PhysRevLett.24.526</td>\n",
       "      <td>10.1103/PhysRevLett.1.12</td>\n",
       "    </tr>\n",
       "    <tr>\n",
       "      <th>328741</th>\n",
       "      <td>10.1103/PhysRevLett.11.333</td>\n",
       "      <td>10.1103/PhysRevLett.1.16</td>\n",
       "    </tr>\n",
       "    <tr>\n",
       "      <th>...</th>\n",
       "      <td>...</td>\n",
       "      <td>...</td>\n",
       "    </tr>\n",
       "    <tr>\n",
       "      <th>1803616</th>\n",
       "      <td>10.1103/PhysRevLett.49.1681</td>\n",
       "      <td>10.1103/PhysRevLett.49.1680</td>\n",
       "    </tr>\n",
       "    <tr>\n",
       "      <th>1806750</th>\n",
       "      <td>10.1103/PhysRevLett.49.1776</td>\n",
       "      <td>10.1103/PhysRevLett.49.1772</td>\n",
       "    </tr>\n",
       "    <tr>\n",
       "      <th>1806860</th>\n",
       "      <td>10.1103/PhysRevLett.49.1799</td>\n",
       "      <td>10.1103/PhysRevLett.49.1798</td>\n",
       "    </tr>\n",
       "    <tr>\n",
       "      <th>1808836</th>\n",
       "      <td>10.1103/PhysRevLett.49.1865</td>\n",
       "      <td>10.1103/PhysRevLett.49.1861</td>\n",
       "    </tr>\n",
       "    <tr>\n",
       "      <th>1808853</th>\n",
       "      <td>10.1103/PhysRevLett.49.1861</td>\n",
       "      <td>10.1103/PhysRevLett.49.1865</td>\n",
       "    </tr>\n",
       "  </tbody>\n",
       "</table>\n",
       "<p>48478 rows × 2 columns</p>\n",
       "</div>"
      ]
     },
     "metadata": {},
     "execution_count": 5
    }
   ],
   "metadata": {}
  },
  {
   "cell_type": "code",
   "execution_count": 62,
   "source": [
    "g = nx.from_pandas_edgelist(df, source='citing_doi', target='cited_doi', create_using=nx.DiGraph())"
   ],
   "outputs": [],
   "metadata": {}
  },
  {
   "cell_type": "code",
   "execution_count": 84,
   "source": [
    "succ_cnt = 0\n",
    "pred_cnt = 0\n",
    "for nd in g.nodes:\n",
    "    if(len(list(g.successors(nd)))==0):\n",
    "        succ_cnt += 1\n",
    "    if(len(list(g.predecessors(nd)))==0):\n",
    "        pred_cnt += 1\n",
    "succ_cnt,pred_cnt"
   ],
   "outputs": [
    {
     "output_type": "execute_result",
     "data": {
      "text/plain": [
       "(2564, 5419)"
      ]
     },
     "metadata": {},
     "execution_count": 84
    }
   ],
   "metadata": {}
  },
  {
   "cell_type": "code",
   "execution_count": 97,
   "source": [
    "adj = nx.linalg.graphmatrix.adjacency_matrix(g).toarray().T #we need to transpose\n"
   ],
   "outputs": [],
   "metadata": {}
  },
  {
   "cell_type": "code",
   "execution_count": 220,
   "source": [
    "(adj.sum(axis=0)==0).sum(),(adj.sum(axis=1)==0).sum()"
   ],
   "outputs": [
    {
     "output_type": "execute_result",
     "data": {
      "text/plain": [
       "(2564, 5419)"
      ]
     },
     "metadata": {},
     "execution_count": 220
    }
   ],
   "metadata": {}
  },
  {
   "cell_type": "code",
   "execution_count": 135,
   "source": [
    "k_out = adj.sum(axis=0).flatten()\n",
    "k_in = adj.sum(axis=1).flatten()\n"
   ],
   "outputs": [],
   "metadata": {}
  },
  {
   "cell_type": "code",
   "execution_count": 271,
   "source": [
    "factor = 1/k_out\n",
    "factor[~np.isfinite(factor)]=0\n",
    "T = adj*factor\n",
    "dead_ends_mask = k_out == 0\n",
    "d = 0.85\n",
    "n = T.shape[0]\n",
    "np.save('adjacency.npy', adj)\n",
    "np.save('T_ver1.npy', T)\n",
    "for i,flag in enumerate(dead_ends_mask):\n",
    "    if(flag):\n",
    "        T[:,i]=0\n",
    "        T[i,i]=1\n",
    "np.save('T_ver2.npy', T)\n",
    "for i,flag in enumerate(dead_ends_mask):\n",
    "    if(flag):\n",
    "        T[:,i]=0\n",
    "prank = np.ones(n)/n\n",
    "iterations = 100\n",
    "for t in range(iterations):\n",
    "    new_pr = d*np.matmul(T,prank)+(1-d)/n\n",
    "    prank = new_pr\n"
   ],
   "outputs": [
    {
     "output_type": "stream",
     "name": "stderr",
     "text": [
      "<ipython-input-271-3ceb947657d5>:1: RuntimeWarning: divide by zero encountered in true_divide\n",
      "  factor = 1/k_out\n"
     ]
    }
   ],
   "metadata": {}
  },
  {
   "cell_type": "code",
   "execution_count": 255,
   "source": [
    "mask_deg = np.flip(np.argsort(k_in))"
   ],
   "outputs": [],
   "metadata": {}
  },
  {
   "cell_type": "code",
   "execution_count": 256,
   "source": [
    "mask_rank = np.flip(np.argsort(prank))"
   ],
   "outputs": [],
   "metadata": {}
  },
  {
   "cell_type": "code",
   "execution_count": 257,
   "source": [
    "mask_deg[:10]"
   ],
   "outputs": [
    {
     "output_type": "execute_result",
     "data": {
      "text/plain": [
       "array([ 4697,  8352, 15082,  2142,  2459,  2508, 15070,  4408,  4932,\n",
       "        1023])"
      ]
     },
     "metadata": {},
     "execution_count": 257
    }
   ],
   "metadata": {}
  },
  {
   "cell_type": "code",
   "execution_count": 258,
   "source": [
    "mask_rank[:10]"
   ],
   "outputs": [
    {
     "output_type": "execute_result",
     "data": {
      "text/plain": [
       "array([4697, 1699, 1698,  672, 2459, 1370, 1396, 2455, 8352, 8363])"
      ]
     },
     "metadata": {},
     "execution_count": 258
    }
   ],
   "metadata": {}
  },
  {
   "cell_type": "code",
   "execution_count": 259,
   "source": [
    "nx_rank = np.array(list(dict(nx.pagerank(g)).values()))"
   ],
   "outputs": [],
   "metadata": {}
  },
  {
   "cell_type": "code",
   "execution_count": 260,
   "source": [
    "mask_nx = np.flip(np.argsort(nx_rank))"
   ],
   "outputs": [],
   "metadata": {}
  },
  {
   "cell_type": "code",
   "execution_count": 261,
   "source": [
    "mask_nx[:20]"
   ],
   "outputs": [
    {
     "output_type": "execute_result",
     "data": {
      "text/plain": [
       "array([4697, 2459, 1370, 2455, 1396, 8352,  672, 8363, 1023, 1624, 3553,\n",
       "       5537, 3255,  452, 2142, 1167, 7423, 2471, 1699,  295])"
      ]
     },
     "metadata": {},
     "execution_count": 261
    }
   ],
   "metadata": {}
  },
  {
   "cell_type": "code",
   "execution_count": 262,
   "source": [
    "mask_rank[:10]"
   ],
   "outputs": [
    {
     "output_type": "execute_result",
     "data": {
      "text/plain": [
       "array([4697, 1699, 1698,  672, 2459, 1370, 1396, 2455, 8352, 8363])"
      ]
     },
     "metadata": {},
     "execution_count": 262
    }
   ],
   "metadata": {}
  },
  {
   "cell_type": "code",
   "execution_count": 251,
   "source": [
    "mask_deg[:20]"
   ],
   "outputs": [
    {
     "output_type": "execute_result",
     "data": {
      "text/plain": [
       "array([ 4697,  8352, 15082,  2142,  2459,  2508, 15070,  4408,  4932,\n",
       "        1023, 10431, 15051,  2957, 13671,  8363,  1397, 15032,  2765,\n",
       "        1370,  2764])"
      ]
     },
     "metadata": {},
     "execution_count": 251
    }
   ],
   "metadata": {}
  },
  {
   "cell_type": "code",
   "execution_count": 266,
   "source": [
    "np.intersect1d(mask_rank[:20],mask_nx[:20] )"
   ],
   "outputs": [
    {
     "output_type": "execute_result",
     "data": {
      "text/plain": [
       "array([ 295,  452,  672, 1023, 1167, 1370, 1396, 1624, 1699, 2455, 2459,\n",
       "       3255, 3553, 4697, 5537, 8352, 8363])"
      ]
     },
     "metadata": {},
     "execution_count": 266
    }
   ],
   "metadata": {}
  },
  {
   "cell_type": "code",
   "execution_count": null,
   "source": [],
   "outputs": [],
   "metadata": {}
  }
 ],
 "metadata": {
  "orig_nbformat": 4,
  "language_info": {
   "name": "python",
   "version": "3.8.8",
   "mimetype": "text/x-python",
   "codemirror_mode": {
    "name": "ipython",
    "version": 3
   },
   "pygments_lexer": "ipython3",
   "nbconvert_exporter": "python",
   "file_extension": ".py"
  },
  "kernelspec": {
   "name": "python3",
   "display_name": "Python 3.8.8 64-bit ('base': conda)"
  },
  "interpreter": {
   "hash": "c01d08a15102b636ecb74cc0ccfcdee42c503ffdd7a35a113e24357ef7f7efe9"
  }
 },
 "nbformat": 4,
 "nbformat_minor": 2
}